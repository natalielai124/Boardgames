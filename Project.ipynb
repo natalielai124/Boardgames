{
  "cells": [
    {
      "cell_type": "code",
      "execution_count": 12,
      "id": "75a4d97e",
      "metadata": {
        "colab": {
          "base_uri": "https://localhost:8080/",
          "height": 141
        },
        "id": "75a4d97e",
        "outputId": "11b8eb60-27da-4fc3-c082-cdbb8b638955"
      },
      "outputs": [
        {
          "output_type": "error",
          "ename": "SyntaxError",
          "evalue": "ignored",
          "traceback": [
            "\u001b[0;36m  File \u001b[0;32m\"<ipython-input-12-7ffb5d7bb85b>\"\u001b[0;36m, line \u001b[0;32m2\u001b[0m\n\u001b[0;31m    pip install requests beautifulsoup4 requests-html\u001b[0m\n\u001b[0m        ^\u001b[0m\n\u001b[0;31mSyntaxError\u001b[0m\u001b[0;31m:\u001b[0m invalid syntax\n"
          ]
        }
      ],
      "source": [
        "# install Python libraries\n",
        "pip install requests beautifulsoup4 requests-html\n",
        "pip install requests"
      ]
    },
    {
      "cell_type": "code",
      "execution_count": 123,
      "id": "c3bc0e65",
      "metadata": {
        "id": "c3bc0e65"
      },
      "outputs": [],
      "source": [
        "import pandas as pd\n",
        "import numpy as np\n",
        "import matplotlib.pyplot as plt\n",
        "from urllib.parse import urlparse\n",
        "import nltk.data\n",
        "from nltk.tokenize import word_tokenize\n",
        "from nltk.corpus import stopwords\n",
        "import requests\n",
        "from bs4 import BeautifulSoup\n",
        "import os\n",
        "from collections import Counter\n",
        "import re\n",
        "from tabulate import tabulate"
      ]
    },
    {
      "cell_type": "code",
      "execution_count": 201,
      "id": "0a26db5f",
      "metadata": {
        "id": "0a26db5f"
      },
      "outputs": [],
      "source": [
        "# enter the boardgame url\n",
        "# ref: url for page 1 > https://boardgamegeek.com/browse/boardgame/page/1\n",
        "\n",
        "import requests\n",
        "\n",
        "base_url = 'https://boardgamegeek.com/browse/boardgame/page/'\n",
        "\n",
        "# create an empty list for storing game\n",
        "game_titles = []\n",
        "game_descriptions = []\n",
        "game_ratings1 = []\n",
        "game_ratings2 = []\n",
        "\n",
        "# set the page number = 100 as we focus on hot games. the total page is 1482\n",
        "total_pages = 100"
      ]
    },
    {
      "cell_type": "code",
      "source": [
        "\n",
        "# Loop through all pages\n",
        "for page_number in range(1, total_pages + 1):\n",
        "    # Construct the URL for the current page\n",
        "    page_url = f'{base_url}{page_number}'\n",
        "\n",
        "    # Send an HTTP GET request to the URL\n",
        "    response = requests.get(page_url)\n",
        "\n",
        "    # Check if the request was successful\n",
        "    if response.status_code == 200:\n",
        "        # Parse the HTML content of the page\n",
        "        soup = BeautifulSoup(response.text, 'html.parser')\n",
        "\n",
        "        # Extract all the board game information for the current page\n",
        "        titles = soup.find_all('a', class_='primary')\n",
        "        descriptions = soup.find_all('p', class_='smallefont dull')\n",
        "        ratings1 = soup.find_all('td', class_='collection_bggrating')\n",
        "        ratings2 = soup.find_all('td', class_='collection_objectname')\n",
        "\n",
        "        # Loop through the elements and append data to the respective lists\n",
        "        for title, description, rating1, release_date in zip(titles, descriptions, ratings1, ratings2):\n",
        "            game_titles.append(title.text.strip())\n",
        "            game_descriptions.append(description.text.strip())\n",
        "            game_ratings1.append(rating.text.strip())\n",
        "            game_ratings2.append(release_date.find_next('td').text.strip())\n",
        "\n",
        "    else:\n",
        "        print(f\"Failed to retrieve page {page_number}.\")\n",
        "\n",
        "# Create a DataFrame from the collected data\n",
        "df = pd.DataFrame({\n",
        "    'Game Title': game_titles,\n",
        "    'Description': game_descriptions,\n",
        "    'Greek Rating': game_ratings2\n",
        "})\n",
        "\n",
        "# Print the first few rows of the DataFrame\n",
        "print(df.head())\n"
      ],
      "metadata": {
        "colab": {
          "base_uri": "https://localhost:8080/"
        },
        "id": "2u5drGI14bGG",
        "outputId": "1fab0f94-3c0f-4962-bc8e-70cc3ff4f967"
      },
      "id": "2u5drGI14bGG",
      "execution_count": 202,
      "outputs": [
        {
          "output_type": "stream",
          "name": "stdout",
          "text": [
            "                          Game Title  \\\n",
            "0                  Brass: Birmingham   \n",
            "1          Pandemic Legacy: Season 1   \n",
            "2                         Gloomhaven   \n",
            "3                           Ark Nova   \n",
            "4  Twilight Imperium: Fourth Edition   \n",
            "\n",
            "                                         Description Greek Rating  \n",
            "0  Build networks, grow industries, and navigate ...        8.424  \n",
            "1  Mutating diseases are spreading around the wor...        8.389  \n",
            "2  Vanquish monsters with strategic cardplay. Ful...        8.380  \n",
            "3  Plan and build a modern, scientifically manage...        8.312  \n",
            "4  Build an intergalactic empire through trade, r...        8.240  \n"
          ]
        }
      ]
    },
    {
      "cell_type": "code",
      "source": [
        "df.info()"
      ],
      "metadata": {
        "colab": {
          "base_uri": "https://localhost:8080/"
        },
        "id": "p7pagTxZybXK",
        "outputId": "b40fc32b-32a1-4964-8164-2fb9f724ef5a"
      },
      "id": "p7pagTxZybXK",
      "execution_count": 203,
      "outputs": [
        {
          "output_type": "stream",
          "name": "stdout",
          "text": [
            "<class 'pandas.core.frame.DataFrame'>\n",
            "RangeIndex: 995 entries, 0 to 994\n",
            "Data columns (total 3 columns):\n",
            " #   Column        Non-Null Count  Dtype \n",
            "---  ------        --------------  ----- \n",
            " 0   Game Title    995 non-null    object\n",
            " 1   Description   995 non-null    object\n",
            " 2   Greek Rating  995 non-null    object\n",
            "dtypes: object(3)\n",
            "memory usage: 23.4+ KB\n"
          ]
        }
      ]
    },
    {
      "cell_type": "code",
      "source": [
        "df.head()"
      ],
      "metadata": {
        "colab": {
          "base_uri": "https://localhost:8080/",
          "height": 206
        },
        "id": "00uTpwMjMn-i",
        "outputId": "bbfa6b46-151d-4224-fe6d-c507a299fd32"
      },
      "id": "00uTpwMjMn-i",
      "execution_count": 204,
      "outputs": [
        {
          "output_type": "execute_result",
          "data": {
            "text/plain": [
              "                          Game Title  \\\n",
              "0                  Brass: Birmingham   \n",
              "1          Pandemic Legacy: Season 1   \n",
              "2                         Gloomhaven   \n",
              "3                           Ark Nova   \n",
              "4  Twilight Imperium: Fourth Edition   \n",
              "\n",
              "                                         Description Greek Rating  \n",
              "0  Build networks, grow industries, and navigate ...        8.424  \n",
              "1  Mutating diseases are spreading around the wor...        8.389  \n",
              "2  Vanquish monsters with strategic cardplay. Ful...        8.380  \n",
              "3  Plan and build a modern, scientifically manage...        8.312  \n",
              "4  Build an intergalactic empire through trade, r...        8.240  "
            ],
            "text/html": [
              "\n",
              "  <div id=\"df-f4b9c874-34dc-40e0-b03b-e1b054252b17\" class=\"colab-df-container\">\n",
              "    <div>\n",
              "<style scoped>\n",
              "    .dataframe tbody tr th:only-of-type {\n",
              "        vertical-align: middle;\n",
              "    }\n",
              "\n",
              "    .dataframe tbody tr th {\n",
              "        vertical-align: top;\n",
              "    }\n",
              "\n",
              "    .dataframe thead th {\n",
              "        text-align: right;\n",
              "    }\n",
              "</style>\n",
              "<table border=\"1\" class=\"dataframe\">\n",
              "  <thead>\n",
              "    <tr style=\"text-align: right;\">\n",
              "      <th></th>\n",
              "      <th>Game Title</th>\n",
              "      <th>Description</th>\n",
              "      <th>Greek Rating</th>\n",
              "    </tr>\n",
              "  </thead>\n",
              "  <tbody>\n",
              "    <tr>\n",
              "      <th>0</th>\n",
              "      <td>Brass: Birmingham</td>\n",
              "      <td>Build networks, grow industries, and navigate ...</td>\n",
              "      <td>8.424</td>\n",
              "    </tr>\n",
              "    <tr>\n",
              "      <th>1</th>\n",
              "      <td>Pandemic Legacy: Season 1</td>\n",
              "      <td>Mutating diseases are spreading around the wor...</td>\n",
              "      <td>8.389</td>\n",
              "    </tr>\n",
              "    <tr>\n",
              "      <th>2</th>\n",
              "      <td>Gloomhaven</td>\n",
              "      <td>Vanquish monsters with strategic cardplay. Ful...</td>\n",
              "      <td>8.380</td>\n",
              "    </tr>\n",
              "    <tr>\n",
              "      <th>3</th>\n",
              "      <td>Ark Nova</td>\n",
              "      <td>Plan and build a modern, scientifically manage...</td>\n",
              "      <td>8.312</td>\n",
              "    </tr>\n",
              "    <tr>\n",
              "      <th>4</th>\n",
              "      <td>Twilight Imperium: Fourth Edition</td>\n",
              "      <td>Build an intergalactic empire through trade, r...</td>\n",
              "      <td>8.240</td>\n",
              "    </tr>\n",
              "  </tbody>\n",
              "</table>\n",
              "</div>\n",
              "    <div class=\"colab-df-buttons\">\n",
              "\n",
              "  <div class=\"colab-df-container\">\n",
              "    <button class=\"colab-df-convert\" onclick=\"convertToInteractive('df-f4b9c874-34dc-40e0-b03b-e1b054252b17')\"\n",
              "            title=\"Convert this dataframe to an interactive table.\"\n",
              "            style=\"display:none;\">\n",
              "\n",
              "  <svg xmlns=\"http://www.w3.org/2000/svg\" height=\"24px\" viewBox=\"0 -960 960 960\">\n",
              "    <path d=\"M120-120v-720h720v720H120Zm60-500h600v-160H180v160Zm220 220h160v-160H400v160Zm0 220h160v-160H400v160ZM180-400h160v-160H180v160Zm440 0h160v-160H620v160ZM180-180h160v-160H180v160Zm440 0h160v-160H620v160Z\"/>\n",
              "  </svg>\n",
              "    </button>\n",
              "\n",
              "  <style>\n",
              "    .colab-df-container {\n",
              "      display:flex;\n",
              "      gap: 12px;\n",
              "    }\n",
              "\n",
              "    .colab-df-convert {\n",
              "      background-color: #E8F0FE;\n",
              "      border: none;\n",
              "      border-radius: 50%;\n",
              "      cursor: pointer;\n",
              "      display: none;\n",
              "      fill: #1967D2;\n",
              "      height: 32px;\n",
              "      padding: 0 0 0 0;\n",
              "      width: 32px;\n",
              "    }\n",
              "\n",
              "    .colab-df-convert:hover {\n",
              "      background-color: #E2EBFA;\n",
              "      box-shadow: 0px 1px 2px rgba(60, 64, 67, 0.3), 0px 1px 3px 1px rgba(60, 64, 67, 0.15);\n",
              "      fill: #174EA6;\n",
              "    }\n",
              "\n",
              "    .colab-df-buttons div {\n",
              "      margin-bottom: 4px;\n",
              "    }\n",
              "\n",
              "    [theme=dark] .colab-df-convert {\n",
              "      background-color: #3B4455;\n",
              "      fill: #D2E3FC;\n",
              "    }\n",
              "\n",
              "    [theme=dark] .colab-df-convert:hover {\n",
              "      background-color: #434B5C;\n",
              "      box-shadow: 0px 1px 3px 1px rgba(0, 0, 0, 0.15);\n",
              "      filter: drop-shadow(0px 1px 2px rgba(0, 0, 0, 0.3));\n",
              "      fill: #FFFFFF;\n",
              "    }\n",
              "  </style>\n",
              "\n",
              "    <script>\n",
              "      const buttonEl =\n",
              "        document.querySelector('#df-f4b9c874-34dc-40e0-b03b-e1b054252b17 button.colab-df-convert');\n",
              "      buttonEl.style.display =\n",
              "        google.colab.kernel.accessAllowed ? 'block' : 'none';\n",
              "\n",
              "      async function convertToInteractive(key) {\n",
              "        const element = document.querySelector('#df-f4b9c874-34dc-40e0-b03b-e1b054252b17');\n",
              "        const dataTable =\n",
              "          await google.colab.kernel.invokeFunction('convertToInteractive',\n",
              "                                                    [key], {});\n",
              "        if (!dataTable) return;\n",
              "\n",
              "        const docLinkHtml = 'Like what you see? Visit the ' +\n",
              "          '<a target=\"_blank\" href=https://colab.research.google.com/notebooks/data_table.ipynb>data table notebook</a>'\n",
              "          + ' to learn more about interactive tables.';\n",
              "        element.innerHTML = '';\n",
              "        dataTable['output_type'] = 'display_data';\n",
              "        await google.colab.output.renderOutput(dataTable, element);\n",
              "        const docLink = document.createElement('div');\n",
              "        docLink.innerHTML = docLinkHtml;\n",
              "        element.appendChild(docLink);\n",
              "      }\n",
              "    </script>\n",
              "  </div>\n",
              "\n",
              "\n",
              "<div id=\"df-11f66bab-5f04-466e-8ec3-a5aa0a91b4be\">\n",
              "  <button class=\"colab-df-quickchart\" onclick=\"quickchart('df-11f66bab-5f04-466e-8ec3-a5aa0a91b4be')\"\n",
              "            title=\"Suggest charts.\"\n",
              "            style=\"display:none;\">\n",
              "\n",
              "<svg xmlns=\"http://www.w3.org/2000/svg\" height=\"24px\"viewBox=\"0 0 24 24\"\n",
              "     width=\"24px\">\n",
              "    <g>\n",
              "        <path d=\"M19 3H5c-1.1 0-2 .9-2 2v14c0 1.1.9 2 2 2h14c1.1 0 2-.9 2-2V5c0-1.1-.9-2-2-2zM9 17H7v-7h2v7zm4 0h-2V7h2v10zm4 0h-2v-4h2v4z\"/>\n",
              "    </g>\n",
              "</svg>\n",
              "  </button>\n",
              "\n",
              "<style>\n",
              "  .colab-df-quickchart {\n",
              "      --bg-color: #E8F0FE;\n",
              "      --fill-color: #1967D2;\n",
              "      --hover-bg-color: #E2EBFA;\n",
              "      --hover-fill-color: #174EA6;\n",
              "      --disabled-fill-color: #AAA;\n",
              "      --disabled-bg-color: #DDD;\n",
              "  }\n",
              "\n",
              "  [theme=dark] .colab-df-quickchart {\n",
              "      --bg-color: #3B4455;\n",
              "      --fill-color: #D2E3FC;\n",
              "      --hover-bg-color: #434B5C;\n",
              "      --hover-fill-color: #FFFFFF;\n",
              "      --disabled-bg-color: #3B4455;\n",
              "      --disabled-fill-color: #666;\n",
              "  }\n",
              "\n",
              "  .colab-df-quickchart {\n",
              "    background-color: var(--bg-color);\n",
              "    border: none;\n",
              "    border-radius: 50%;\n",
              "    cursor: pointer;\n",
              "    display: none;\n",
              "    fill: var(--fill-color);\n",
              "    height: 32px;\n",
              "    padding: 0;\n",
              "    width: 32px;\n",
              "  }\n",
              "\n",
              "  .colab-df-quickchart:hover {\n",
              "    background-color: var(--hover-bg-color);\n",
              "    box-shadow: 0 1px 2px rgba(60, 64, 67, 0.3), 0 1px 3px 1px rgba(60, 64, 67, 0.15);\n",
              "    fill: var(--button-hover-fill-color);\n",
              "  }\n",
              "\n",
              "  .colab-df-quickchart-complete:disabled,\n",
              "  .colab-df-quickchart-complete:disabled:hover {\n",
              "    background-color: var(--disabled-bg-color);\n",
              "    fill: var(--disabled-fill-color);\n",
              "    box-shadow: none;\n",
              "  }\n",
              "\n",
              "  .colab-df-spinner {\n",
              "    border: 2px solid var(--fill-color);\n",
              "    border-color: transparent;\n",
              "    border-bottom-color: var(--fill-color);\n",
              "    animation:\n",
              "      spin 1s steps(1) infinite;\n",
              "  }\n",
              "\n",
              "  @keyframes spin {\n",
              "    0% {\n",
              "      border-color: transparent;\n",
              "      border-bottom-color: var(--fill-color);\n",
              "      border-left-color: var(--fill-color);\n",
              "    }\n",
              "    20% {\n",
              "      border-color: transparent;\n",
              "      border-left-color: var(--fill-color);\n",
              "      border-top-color: var(--fill-color);\n",
              "    }\n",
              "    30% {\n",
              "      border-color: transparent;\n",
              "      border-left-color: var(--fill-color);\n",
              "      border-top-color: var(--fill-color);\n",
              "      border-right-color: var(--fill-color);\n",
              "    }\n",
              "    40% {\n",
              "      border-color: transparent;\n",
              "      border-right-color: var(--fill-color);\n",
              "      border-top-color: var(--fill-color);\n",
              "    }\n",
              "    60% {\n",
              "      border-color: transparent;\n",
              "      border-right-color: var(--fill-color);\n",
              "    }\n",
              "    80% {\n",
              "      border-color: transparent;\n",
              "      border-right-color: var(--fill-color);\n",
              "      border-bottom-color: var(--fill-color);\n",
              "    }\n",
              "    90% {\n",
              "      border-color: transparent;\n",
              "      border-bottom-color: var(--fill-color);\n",
              "    }\n",
              "  }\n",
              "</style>\n",
              "\n",
              "  <script>\n",
              "    async function quickchart(key) {\n",
              "      const quickchartButtonEl =\n",
              "        document.querySelector('#' + key + ' button');\n",
              "      quickchartButtonEl.disabled = true;  // To prevent multiple clicks.\n",
              "      quickchartButtonEl.classList.add('colab-df-spinner');\n",
              "      try {\n",
              "        const charts = await google.colab.kernel.invokeFunction(\n",
              "            'suggestCharts', [key], {});\n",
              "      } catch (error) {\n",
              "        console.error('Error during call to suggestCharts:', error);\n",
              "      }\n",
              "      quickchartButtonEl.classList.remove('colab-df-spinner');\n",
              "      quickchartButtonEl.classList.add('colab-df-quickchart-complete');\n",
              "    }\n",
              "    (() => {\n",
              "      let quickchartButtonEl =\n",
              "        document.querySelector('#df-11f66bab-5f04-466e-8ec3-a5aa0a91b4be button');\n",
              "      quickchartButtonEl.style.display =\n",
              "        google.colab.kernel.accessAllowed ? 'block' : 'none';\n",
              "    })();\n",
              "  </script>\n",
              "</div>\n",
              "    </div>\n",
              "  </div>\n"
            ]
          },
          "metadata": {},
          "execution_count": 204
        }
      ]
    },
    {
      "cell_type": "code",
      "source": [
        "# Tokenize and count words in the 'Description' column\n",
        "nltk.download('punkt')\n",
        "nltk.download('stopwords')"
      ],
      "metadata": {
        "colab": {
          "base_uri": "https://localhost:8080/"
        },
        "id": "m5T3p6XUMtB9",
        "outputId": "7231a799-1bbd-4c0b-e63f-e1874a4bf0e2"
      },
      "id": "m5T3p6XUMtB9",
      "execution_count": 207,
      "outputs": [
        {
          "output_type": "stream",
          "name": "stderr",
          "text": [
            "[nltk_data] Downloading package punkt to /root/nltk_data...\n",
            "[nltk_data]   Unzipping tokenizers/punkt.zip.\n",
            "[nltk_data] Downloading package stopwords to /root/nltk_data...\n",
            "[nltk_data]   Unzipping corpora/stopwords.zip.\n"
          ]
        },
        {
          "output_type": "execute_result",
          "data": {
            "text/plain": [
              "True"
            ]
          },
          "metadata": {},
          "execution_count": 207
        }
      ]
    },
    {
      "cell_type": "code",
      "source": [
        "# Create a list of stopwords to filter out common words\n",
        "stop_words = set(stopwords.words('english'))\n"
      ],
      "metadata": {
        "id": "YS6fp9uROmGb"
      },
      "id": "YS6fp9uROmGb",
      "execution_count": 209,
      "outputs": []
    },
    {
      "cell_type": "code",
      "source": [
        "# Tokenize and count words\n",
        "tokens = []\n",
        "for description in df['Description']:\n",
        "    words = word_tokenize(description)\n",
        "    for word in words:\n",
        "        word = word.lower()  # Convert to lowercase\n",
        "        if word.isalpha() and word not in stop_words:  # Filter out non-alphabetic and stop words\n",
        "            tokens.append(word)\n",
        "\n",
        "# Count the frequency of each token\n",
        "token_counts = Counter(tokens)\n",
        "\n",
        "# Get the most common keywords (top 10 in this example)\n",
        "most_common_keywords = token_counts.most_common(30)\n",
        "\n",
        "# Print the most common keywords and their counts\n",
        "for keyword, count in most_common_keywords:\n",
        "    print(f\"{keyword}: {count}\")"
      ],
      "metadata": {
        "colab": {
          "base_uri": "https://localhost:8080/"
        },
        "id": "oYdf5qYFOu1s",
        "outputId": "d8c08d07-822d-472a-df8c-501ecbb3e85e"
      },
      "id": "oYdf5qYFOu1s",
      "execution_count": 212,
      "outputs": [
        {
          "output_type": "stream",
          "name": "stdout",
          "text": [
            "build: 144\n",
            "game: 80\n",
            "world: 41\n",
            "race: 40\n",
            "fight: 39\n",
            "control: 39\n",
            "dice: 36\n",
            "new: 36\n",
            "use: 35\n",
            "city: 34\n",
            "best: 33\n",
            "cards: 30\n",
            "team: 29\n",
            "compete: 29\n",
            "empire: 28\n",
            "win: 27\n",
            "become: 27\n",
            "develop: 26\n",
            "explore: 25\n",
            "battle: 25\n",
            "together: 24\n",
            "goods: 24\n",
            "work: 24\n",
            "trade: 23\n",
            "create: 23\n",
            "take: 23\n",
            "make: 22\n",
            "help: 22\n",
            "power: 22\n",
            "heroes: 22\n"
          ]
        }
      ]
    },
    {
      "cell_type": "code",
      "source": [
        "# Exclude some common worlds\n",
        "exclude_words = {'game', 'new', 'best', 'become', 'use'}"
      ],
      "metadata": {
        "id": "Pr0hh56dPACd"
      },
      "id": "Pr0hh56dPACd",
      "execution_count": 214,
      "outputs": []
    },
    {
      "cell_type": "code",
      "source": [
        "# empty the list to store filtered words\n",
        "tokens = []\n",
        "\n",
        "for description in df['Description']:\n",
        "    words = word_tokenize(description)\n",
        "    for word in words:\n",
        "        word = word.lower()  # Convert to lowercase\n",
        "        if word.isalpha() and word not in stop_words and word not in exclude_words:\n",
        "            tokens.append(word)\n",
        "\n",
        "# Count the frequency of each token\n",
        "token_counts = Counter(tokens)\n",
        "\n",
        "# Get the most common keywords (top 10 in this example)\n",
        "most_common_keywords = token_counts.most_common(10)\n"
      ],
      "metadata": {
        "id": "cQtdedlJPfXn"
      },
      "id": "cQtdedlJPfXn",
      "execution_count": 224,
      "outputs": []
    },
    {
      "cell_type": "code",
      "source": [
        "words, counts = zip(*most_common_keywords)"
      ],
      "metadata": {
        "id": "AT9UJ7EgSDpE"
      },
      "id": "AT9UJ7EgSDpE",
      "execution_count": 222,
      "outputs": []
    },
    {
      "cell_type": "code",
      "source": [
        "plt.figure(figsize=(10, 6))\n",
        "plt.bar(words, counts)\n",
        "plt.xlabel('Words')\n",
        "plt.ylabel('Frequency')\n",
        "plt.title('Most Common Words in Board Game Descriptions')\n",
        "plt.xticks(rotation=45)  # Rotate x-axis labels for better readability\n",
        "plt.tight_layout()\n",
        "\n",
        "# Show the chart\n",
        "plt.show()\n",
        "\n",
        "# Fun fact #1\n",
        "# In the results, we can find that the most common word is 'Build'\n",
        "# It seems people would love to theme of building or create sometihngs\n",
        "\n",
        "# Fun fact #2\n",
        "# The wordings like 'race', 'fight', and 'control' are occupied 3rd, 4th, and 5th.\n",
        "# It seems gamers who enjoy racing games may appreciate the thrill of competition"
      ],
      "metadata": {
        "colab": {
          "base_uri": "https://localhost:8080/",
          "height": 607
        },
        "id": "q7sb3GJGRzkb",
        "outputId": "3136e313-f7fa-476b-d6ba-498e62685c7b"
      },
      "id": "q7sb3GJGRzkb",
      "execution_count": 223,
      "outputs": [
        {
          "output_type": "display_data",
          "data": {
            "text/plain": [
              "<Figure size 1000x600 with 1 Axes>"
            ],
            "image/png": "[encoded data removed]"
          },
          "metadata": {}
        }
      ]
    },
    {
      "cell_type": "code",
      "source": [
        "# Words to exclude\n",
        "exclude_words = {'the', 'game', 'of', 'edition', 'second', 'a'}"
      ],
      "metadata": {
        "id": "QCc9ig0aShhQ"
      },
      "id": "QCc9ig0aShhQ",
      "execution_count": 232,
      "outputs": []
    },
    {
      "cell_type": "code",
      "source": [
        "# Tokenize and count words while excluding specified words\n",
        "tokens = []\n",
        "for title in df['Game Title']:\n",
        "    words = word_tokenize(title)\n",
        "    for word in words:\n",
        "        word = word.lower()  # Convert to lowercase\n",
        "        if word.isalpha() and word not in exclude_words:\n",
        "            tokens.append(word)\n",
        "\n",
        "# Count the frequency of each token\n",
        "token_counts = Counter(tokens)\n",
        "\n",
        "# Get the most common word\n",
        "most_common_word, most_common_count = token_counts.most_common(1)[0]\n",
        "\n",
        "# Fun fact #3\n",
        "# 'war'is the most common word in the game title!\n",
        "print(f\"The most common word in game titles is '{most_common_word}' with a count of {most_common_count}.\")"
      ],
      "metadata": {
        "colab": {
          "base_uri": "https://localhost:8080/"
        },
        "id": "4b2lonZ-TM83",
        "outputId": "a2da8628-7a17-4730-a369-3bc38357eb30"
      },
      "id": "4b2lonZ-TM83",
      "execution_count": 233,
      "outputs": [
        {
          "output_type": "stream",
          "name": "stdout",
          "text": [
            "The most common word in game titles is 'wars' with a count of 22.\n"
          ]
        }
      ]
    },
    {
      "cell_type": "code",
      "source": [
        "# set the key war\n",
        "search_word = 'war'\n",
        "\n",
        "# Tokenize words and filter titles containing the search word\n",
        "filtered_titles = [title for title in df['Game Title'] if search_word in word_tokenize(title.lower())]\n",
        "\n",
        "# Sort the DataFrame by 'Rating' in descending order\n",
        "df.sort_values(by='Greek Rating', ascending=False, inplace=True)\n",
        "\n",
        "# Filter the DataFrame to include only the top 10 games with 'war' in the title\n",
        "top_10_war_games = df[df['Game Title'].isin(filtered_titles)].head(10)\n",
        "\n",
        "# Display the results in a table\n",
        "table = tabulate(top_10_war_games, headers='keys', tablefmt='grid')\n",
        "print(table)"
      ],
      "metadata": {
        "colab": {
          "base_uri": "https://localhost:8080/"
        },
        "id": "qT7cFOr3T1mQ",
        "outputId": "615cd494-5a64-4b7c-ffb0-6bdab0008d16"
      },
      "id": "qT7cFOr3T1mQ",
      "execution_count": 241,
      "outputs": [
        {
          "output_type": "stream",
          "name": "stdout",
          "text": [
            "+-----+------------------------------------------+---------------------------------------------------------------------------------------+----------------+\n",
            "|     | Game Title                               | Description                                                                           |   Greek Rating |\n",
            "+=====+==========================================+=======================================================================================+================+\n",
            "|   8 | War of the Ring: Second Edition          | The Fellowship and the Free Peoples clash with Sauron over the fate of Middle-Earth.  |          8.175 |\n",
            "+-----+------------------------------------------+---------------------------------------------------------------------------------------+----------------+\n",
            "| 114 | Aeon's End: War Eternal                  | War Eternal is a standalone game compatible with the deck building game Aeon's End.   |          7.486 |\n",
            "+-----+------------------------------------------+---------------------------------------------------------------------------------------+----------------+\n",
            "| 166 | War Chest                                | Recruit, bolster and maneuver your way to controlling the hex-grid battlefield.       |          7.376 |\n",
            "+-----+------------------------------------------+---------------------------------------------------------------------------------------+----------------+\n",
            "| 167 | War of the Ring                          | Rings, Fellowship, diplomacy and war in the Third Age of Middle Earth.                |          7.374 |\n",
            "+-----+------------------------------------------+---------------------------------------------------------------------------------------+----------------+\n",
            "| 170 | This War of Mine: The Board Game         | Civilians trapped in a war-torn city must make difficult decisions to survive.        |          7.362 |\n",
            "+-----+------------------------------------------+---------------------------------------------------------------------------------------+----------------+\n",
            "| 225 | Wonderland's War                         | The looking glass has shattered and war has come to Wonderland!                       |          7.273 |\n",
            "+-----+------------------------------------------+---------------------------------------------------------------------------------------+----------------+\n",
            "| 300 | Nemo's War (Second Edition)              | Sail the Seven Seas as the hardened captain Nemo, fighting the Imperialist powers.    |          7.157 |\n",
            "+-----+------------------------------------------+---------------------------------------------------------------------------------------+----------------+\n",
            "| 425 | Blitzkrieg!: World War Two in 20 Minutes | Deploy units in different theaters of combat to win WW2.                              |          7.016 |\n",
            "+-----+------------------------------------------+---------------------------------------------------------------------------------------+----------------+\n",
            "| 505 | Labyrinth: The War on Terror, 2001 – ?   | Jihad is no longer a world away. Can the West react in time to win the war on terror? |          6.941 |\n",
            "+-----+------------------------------------------+---------------------------------------------------------------------------------------+----------------+\n",
            "| 625 | Gears of War: The Board Game             | Be a COG soldier, fighting the Locust against all odds in a final desperate stand.    |          6.842 |\n",
            "+-----+------------------------------------------+---------------------------------------------------------------------------------------+----------------+\n"
          ]
        }
      ]
    }
  ],
  "metadata": {
    "kernelspec": {
      "display_name": "Python 3 (ipykernel)",
      "language": "python",
      "name": "python3"
    },
    "language_info": {
      "codemirror_mode": {
        "name": "ipython",
        "version": 3
      },
      "file_extension": ".py",
      "mimetype": "text/x-python",
      "name": "python",
      "nbconvert_exporter": "python",
      "pygments_lexer": "ipython3",
      "version": "3.11.3"
    },
    "colab": {
      "provenance": []
    }
  },
  "nbformat": 4,
  "nbformat_minor": 5
}