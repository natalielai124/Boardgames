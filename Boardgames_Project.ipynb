{
  "cells": [
    {
      "cell_type": "code",
      "execution_count": null,
      "id": "75a4d97e",
      "metadata": {
        "colab": {
          "base_uri": "https://localhost:8080/",
          "height": 141
        },
        "id": "75a4d97e",
        "outputId": "11b8eb60-27da-4fc3-c082-cdbb8b638955"
      },
      "outputs": [],
      "source": [
        "# Install Python libraries\n",
        "pip install requests beautifulsoup4 requests-html\n",
        "pip install requests"
      ]
    },
    {
      "cell_type": "code",
      "execution_count": null,
      "id": "c3bc0e65",
      "metadata": {
        "id": "c3bc0e65"
      },
      "outputs": [],
      "source": [
        "import pandas as pd\n",
        "import numpy as np\n",
        "import matplotlib.pyplot as plt\n",
        "from urllib.parse import urlparse\n",
        "import nltk.data\n",
        "from nltk.tokenize import word_tokenize\n",
        "from nltk.corpus import stopwords\n",
        "import requests\n",
        "from bs4 import BeautifulSoup\n",
        "import os\n",
        "from collections import Counter\n",
        "import re\n",
        "from tabulate import tabulate"
      ]
    },
    {
      "cell_type": "code",
      "execution_count": null,
      "id": "0a26db5f",
      "metadata": {
        "id": "0a26db5f"
      },
      "outputs": [],
      "source": [
        "# Enter the boardgame url\n",
        "# Ref: url for page 1 > https://boardgamegeek.com/browse/boardgame/page/1\n",
        "\n",
        "import requests\n",
        "\n",
        "base_url = 'https://boardgamegeek.com/browse/boardgame/page/'\n",
        "\n",
        "# Set the page number = 2 for testing. \n",
        "# The total page is 1482, but we would like to focus on hot games so set total page = 100\n",
        "# Total_pages = 2\n",
        "total_pages = 100"
      ]
    },
    {
      "cell_type": "code",
      "execution_count": 285,
      "metadata": {},
      "outputs": [
        {
          "name": "stdout",
          "output_type": "stream",
          "text": [
            "                  Game Title  \\\n",
            "0          Brass: Birmingham   \n",
            "1  Pandemic Legacy: Season 1   \n",
            "2                 Gloomhaven   \n",
            "\n",
            "                                         Description Greek Rating  \\\n",
            "0  Build networks, grow industries, and navigate ...        8.424   \n",
            "1  Mutating diseases are spreading around the wor...        8.389   \n",
            "2  Vanquish monsters with strategic cardplay. Ful...        8.380   \n",
            "\n",
            "  Average Rating  Votes Release Years  \n",
            "0           8.61  40631          2018  \n",
            "1           8.53  51385          2015  \n",
            "2           8.61  59509          2017  \n"
          ]
        }
      ],
      "source": [
        "# Create an empty list for storing game\n",
        "game_titles = []\n",
        "game_descriptions = []\n",
        "game_ratings1 = []\n",
        "game_ratings2 = []\n",
        "game_ratings3 = []\n",
        "game_votes = []\n",
        "game_release_years = []\n",
        "\n",
        "# Loop through all pages\n",
        "for page_number in range(1, total_pages + 1):\n",
        "    # Construct the URL for the current page\n",
        "    page_url = f'{base_url}{page_number}'\n",
        "\n",
        "    # Send an HTTP GET request to the URL\n",
        "    response = requests.get(page_url)\n",
        "\n",
        "    # Check if the request was successful\n",
        "    if response.status_code == 200:\n",
        "        # Parse the HTML content of the page\n",
        "        soup = BeautifulSoup(response.text, 'html.parser')\n",
        "\n",
        "        # Extract all the board game information for the current page\n",
        "        titles = soup.find_all('a', class_='primary')\n",
        "        descriptions = soup.find_all('p', class_='smallefont dull')\n",
        "        ratings1 = soup.find_all('td', class_='collection_bggrating')\n",
        "        ratings2 = soup.find_all('td', class_='collection_objectname')\n",
        "        release_years = soup.find_all('span', class_='smallerfont dull')\n",
        "\n",
        "        # Loop through the elements and append data to the respective lists\n",
        "        for title, description, ratings1, ratings2, release_years  in zip(titles, descriptions, ratings1, ratings2, release_years):\n",
        "            game_titles.append(title.text.strip())\n",
        "            game_descriptions.append(description.text.strip())\n",
        "            game_ratings1.append(ratings1.text.strip())\n",
        "            game_ratings2.append(ratings2.find_next('td').text.strip())\n",
        "            game_ratings3.append(ratings2.find_next('td').find_next('td').text.strip())\n",
        "            game_votes.append(ratings2.find_next('td').find_next('td').find_next('td').text.strip())\n",
        "            \n",
        "            release_year_text = release_years.text.strip()\n",
        "            release_year_text = release_year_text.strip('()')\n",
        "            game_release_years.append(release_year_text)\n",
        "            \n",
        "           \n",
        "\n",
        "    else:\n",
        "        print(f\"Failed to retrieve page {page_number}.\")\n",
        "\n",
        "# Create a DataFrame from the collected data\n",
        "df = pd.DataFrame({\n",
        "    'Game Title': game_titles,\n",
        "    'Description': game_descriptions,\n",
        "    'Greek Rating': game_ratings2,\n",
        "    'Average Rating': game_ratings3,\n",
        "    'Votes': game_votes, \n",
        "    'Release Years': game_release_years\n",
        "})\n",
        "\n",
        "\n",
        "# Print the first 3 row of the DataFrame\n",
        "print(df.head(3))"
      ]
    },
    {
      "cell_type": "code",
      "execution_count": 311,
      "id": "e9e1836f",
      "metadata": {},
      "outputs": [],
      "source": [
        "# Convert 'Greek Rating' & 'Average Rating'column to float\n",
        "df['Greek Rating'] = pd.to_numeric(df['Greek Rating'], errors='coerce')\n",
        "df['Average Rating'] = pd.to_numeric(df['Average Rating'], errors='coerce')\n",
        "\n",
        "# Convert 'Votes' & 'Release Year' column to integer\n",
        "df['Votes'] = pd.to_numeric(df['Votes'], errors='coerce').astype('Int64')\n",
        "df['Release Years'] = pd.to_numeric(df['Release Years'], errors='coerce').astype('Int64')"
      ]
    },
    {
      "cell_type": "code",
      "execution_count": 312,
      "id": "p7pagTxZybXK",
      "metadata": {
        "colab": {
          "base_uri": "https://localhost:8080/"
        },
        "id": "p7pagTxZybXK",
        "outputId": "b40fc32b-32a1-4964-8164-2fb9f724ef5a"
      },
      "outputs": [
        {
          "name": "stdout",
          "output_type": "stream",
          "text": [
            "<class 'pandas.core.frame.DataFrame'>\n",
            "Int64Index: 995 entries, 0 to 994\n",
            "Data columns (total 6 columns):\n",
            " #   Column          Non-Null Count  Dtype  \n",
            "---  ------          --------------  -----  \n",
            " 0   Game Title      995 non-null    object \n",
            " 1   Description     995 non-null    object \n",
            " 2   Greek Rating    995 non-null    float64\n",
            " 3   Average Rating  995 non-null    float64\n",
            " 4   Votes           995 non-null    Int64  \n",
            " 5   Release Years   995 non-null    Int64  \n",
            "dtypes: Int64(2), float64(2), object(2)\n",
            "memory usage: 56.4+ KB\n"
          ]
        }
      ],
      "source": [
        "# Check the data types of the columns \n",
        "df.info()"
      ]
    },
    {
      "cell_type": "code",
      "execution_count": 302,
      "id": "00uTpwMjMn-i",
      "metadata": {
        "colab": {
          "base_uri": "https://localhost:8080/",
          "height": 206
        },
        "id": "00uTpwMjMn-i",
        "outputId": "bbfa6b46-151d-4224-fe6d-c507a299fd32"
      },
      "outputs": [
        {
          "data": {
            "text/html": [
              "<div>\n",
              "<style scoped>\n",
              "    .dataframe tbody tr th:only-of-type {\n",
              "        vertical-align: middle;\n",
              "    }\n",
              "\n",
              "    .dataframe tbody tr th {\n",
              "        vertical-align: top;\n",
              "    }\n",
              "\n",
              "    .dataframe thead th {\n",
              "        text-align: right;\n",
              "    }\n",
              "</style>\n",
              "<table border=\"1\" class=\"dataframe\">\n",
              "  <thead>\n",
              "    <tr style=\"text-align: right;\">\n",
              "      <th></th>\n",
              "      <th>Game Title</th>\n",
              "      <th>Description</th>\n",
              "      <th>Greek Rating</th>\n",
              "      <th>Average Rating</th>\n",
              "      <th>Votes</th>\n",
              "      <th>Release Years</th>\n",
              "    </tr>\n",
              "  </thead>\n",
              "  <tbody>\n",
              "    <tr>\n",
              "      <th>0</th>\n",
              "      <td>Brass: Birmingham</td>\n",
              "      <td>Build networks, grow industries, and navigate ...</td>\n",
              "      <td>8.424</td>\n",
              "      <td>8.61</td>\n",
              "      <td>40631</td>\n",
              "      <td>2018</td>\n",
              "    </tr>\n",
              "    <tr>\n",
              "      <th>1</th>\n",
              "      <td>Pandemic Legacy: Season 1</td>\n",
              "      <td>Mutating diseases are spreading around the wor...</td>\n",
              "      <td>8.389</td>\n",
              "      <td>8.53</td>\n",
              "      <td>51385</td>\n",
              "      <td>2015</td>\n",
              "    </tr>\n",
              "    <tr>\n",
              "      <th>2</th>\n",
              "      <td>Gloomhaven</td>\n",
              "      <td>Vanquish monsters with strategic cardplay. Ful...</td>\n",
              "      <td>8.380</td>\n",
              "      <td>8.61</td>\n",
              "      <td>59509</td>\n",
              "      <td>2017</td>\n",
              "    </tr>\n",
              "    <tr>\n",
              "      <th>3</th>\n",
              "      <td>Ark Nova</td>\n",
              "      <td>Plan and build a modern, scientifically manage...</td>\n",
              "      <td>8.312</td>\n",
              "      <td>8.53</td>\n",
              "      <td>34520</td>\n",
              "      <td>2021</td>\n",
              "    </tr>\n",
              "    <tr>\n",
              "      <th>4</th>\n",
              "      <td>Twilight Imperium: Fourth Edition</td>\n",
              "      <td>Build an intergalactic empire through trade, r...</td>\n",
              "      <td>8.240</td>\n",
              "      <td>8.61</td>\n",
              "      <td>21640</td>\n",
              "      <td>2017</td>\n",
              "    </tr>\n",
              "  </tbody>\n",
              "</table>\n",
              "</div>"
            ],
            "text/plain": [
              "                          Game Title  \\\n",
              "0                  Brass: Birmingham   \n",
              "1          Pandemic Legacy: Season 1   \n",
              "2                         Gloomhaven   \n",
              "3                           Ark Nova   \n",
              "4  Twilight Imperium: Fourth Edition   \n",
              "\n",
              "                                         Description Greek Rating  \\\n",
              "0  Build networks, grow industries, and navigate ...        8.424   \n",
              "1  Mutating diseases are spreading around the wor...        8.389   \n",
              "2  Vanquish monsters with strategic cardplay. Ful...        8.380   \n",
              "3  Plan and build a modern, scientifically manage...        8.312   \n",
              "4  Build an intergalactic empire through trade, r...        8.240   \n",
              "\n",
              "  Average Rating  Votes Release Years  \n",
              "0           8.61  40631          2018  \n",
              "1           8.53  51385          2015  \n",
              "2           8.61  59509          2017  \n",
              "3           8.53  34520          2021  \n",
              "4           8.61  21640          2017  "
            ]
          },
          "execution_count": 302,
          "metadata": {},
          "output_type": "execute_result"
        }
      ],
      "source": [
        "#  Check the values in the data frame\n",
        "df.head()"
      ]
    },
    {
      "cell_type": "code",
      "execution_count": 303,
      "id": "m5T3p6XUMtB9",
      "metadata": {
        "colab": {
          "base_uri": "https://localhost:8080/"
        },
        "id": "m5T3p6XUMtB9",
        "outputId": "7231a799-1bbd-4c0b-e63f-e1874a4bf0e2"
      },
      "outputs": [
        {
          "name": "stderr",
          "output_type": "stream",
          "text": [
            "[nltk_data] Downloading package punkt to\n",
            "[nltk_data]     /Users/natalielai/nltk_data...\n",
            "[nltk_data]   Package punkt is already up-to-date!\n",
            "[nltk_data] Downloading package stopwords to\n",
            "[nltk_data]     /Users/natalielai/nltk_data...\n",
            "[nltk_data]   Package stopwords is already up-to-date!\n"
          ]
        },
        {
          "data": {
            "text/plain": [
              "True"
            ]
          },
          "execution_count": 303,
          "metadata": {},
          "output_type": "execute_result"
        }
      ],
      "source": [
        "# Tokenize and count words in the 'Description' column\n",
        "nltk.download('punkt')\n",
        "nltk.download('stopwords')"
      ]
    },
    {
      "cell_type": "code",
      "execution_count": 304,
      "id": "YS6fp9uROmGb",
      "metadata": {
        "id": "YS6fp9uROmGb"
      },
      "outputs": [],
      "source": [
        "# Create a list of stopwords to filter out common words\n",
        "stop_words = set(stopwords.words('english'))\n"
      ]
    },
    {
      "cell_type": "code",
      "execution_count": 305,
      "id": "oYdf5qYFOu1s",
      "metadata": {
        "colab": {
          "base_uri": "https://localhost:8080/"
        },
        "id": "oYdf5qYFOu1s",
        "outputId": "d8c08d07-822d-472a-df8c-501ecbb3e85e"
      },
      "outputs": [
        {
          "name": "stdout",
          "output_type": "stream",
          "text": [
            "build: 144\n",
            "game: 80\n",
            "world: 41\n",
            "race: 40\n",
            "fight: 39\n",
            "control: 39\n",
            "dice: 36\n",
            "new: 36\n",
            "use: 35\n",
            "city: 34\n",
            "best: 33\n",
            "cards: 30\n",
            "team: 29\n",
            "compete: 29\n",
            "empire: 28\n",
            "win: 27\n",
            "become: 27\n",
            "develop: 26\n",
            "explore: 25\n",
            "battle: 25\n",
            "together: 24\n",
            "goods: 24\n",
            "work: 24\n",
            "trade: 23\n",
            "create: 23\n",
            "take: 23\n",
            "make: 22\n",
            "help: 22\n",
            "power: 22\n",
            "heroes: 22\n"
          ]
        }
      ],
      "source": [
        "# Tokenize and count words\n",
        "tokens = []\n",
        "for description in df['Description']:\n",
        "    words = word_tokenize(description)\n",
        "    for word in words:\n",
        "        word = word.lower()  # Convert to lowercase\n",
        "        if word.isalpha() and word not in stop_words:  # Filter out non-alphabetic and stop words\n",
        "            tokens.append(word)\n",
        "\n",
        "# Count the frequency of each token\n",
        "token_counts = Counter(tokens)\n",
        "\n",
        "# Get the most common keywords (top 10 in this example)\n",
        "most_common_keywords = token_counts.most_common(30)\n",
        "\n",
        "# Print the most common keywords and their counts\n",
        "for keyword, count in most_common_keywords:\n",
        "    print(f\"{keyword}: {count}\")"
      ]
    },
    {
      "cell_type": "code",
      "execution_count": 306,
      "id": "Pr0hh56dPACd",
      "metadata": {
        "id": "Pr0hh56dPACd"
      },
      "outputs": [],
      "source": [
        "# Exclude some common worlds\n",
        "exclude_words = {'game', 'new', 'best', 'become', 'use', 'cards', 'dice', ' game'}"
      ]
    },
    {
      "cell_type": "code",
      "execution_count": 307,
      "id": "cQtdedlJPfXn",
      "metadata": {
        "id": "cQtdedlJPfXn"
      },
      "outputs": [],
      "source": [
        "# Empty the list to store filtered words\n",
        "tokens = []\n",
        "\n",
        "for description in df['Description']:\n",
        "    words = word_tokenize(description)\n",
        "    for word in words:\n",
        "        word = word.lower()  # Convert to lowercase\n",
        "        if word.isalpha() and word not in stop_words and word not in exclude_words:\n",
        "            tokens.append(word)\n",
        "\n",
        "# Count the frequency of each token\n",
        "token_counts = Counter(tokens)\n",
        "\n",
        "# Get the most common keywords (top 10 in this example)\n",
        "most_common_keywords = token_counts.most_common(10)\n"
      ]
    },
    {
      "cell_type": "code",
      "execution_count": 308,
      "id": "q7sb3GJGRzkb",
      "metadata": {
        "colab": {
          "base_uri": "https://localhost:8080/",
          "height": 607
        },
        "id": "q7sb3GJGRzkb",
        "outputId": "3136e313-f7fa-476b-d6ba-498e62685c7b"
      },
      "outputs": [
        {
          "data": {
            "image/png": "[encoded data removed]",
            "text/plain": [
              "<Figure size 1000x600 with 1 Axes>"
            ]
          },
          "metadata": {},
          "output_type": "display_data"
        }
      ],
      "source": [
        "# Plot the graph\n",
        "words, counts = zip(*most_common_keywords)\n",
        "\n",
        "plt.figure(figsize=(10, 6))\n",
        "plt.bar(words, counts)\n",
        "plt.xlabel('Words')\n",
        "plt.ylabel('Frequency')\n",
        "plt.title('Most Common Words in Board Game Descriptions')\n",
        "plt.xticks(rotation=45)  # Rotate x-axis labels for better readability\n",
        "plt.tight_layout()\n",
        "\n",
        "# Show the chart\n",
        "plt.show()\n",
        "\n",
        "# Fun fact #1\n",
        "# In the results, we can find that the most common word is 'Build'\n",
        "\n",
        "# It seems people would love to theme of building or create somethings\n",
        "\n",
        "# Fun fact #2\n",
        "# The wordings like 'race', 'control', and 'fight' are occupied 3rd, 4th, and 5th.\n",
        "\n",
        "# It seems gamers who enjoy racing games may appreciate the thrill of competition"
      ]
    },
    {
      "cell_type": "code",
      "execution_count": 294,
      "id": "4b2lonZ-TM83",
      "metadata": {
        "colab": {
          "base_uri": "https://localhost:8080/"
        },
        "id": "4b2lonZ-TM83",
        "outputId": "a2da8628-7a17-4730-a369-3bc38357eb30"
      },
      "outputs": [
        {
          "name": "stdout",
          "output_type": "stream",
          "text": [
            "The most common word in game titles is 'wars' with a count of 22.\n"
          ]
        }
      ],
      "source": [
        "# Words to exclude\n",
        "exclude_words = {'the', 'game', 'of', 'edition', 'second', 'a'}\n",
        "\n",
        "# Tokenize and count words while excluding specified words\n",
        "tokens = []\n",
        "for title in df['Game Title']:\n",
        "    words = word_tokenize(title)\n",
        "    for word in words:\n",
        "        word = word.lower()  # Convert to lowercase\n",
        "        if word.isalpha() and word not in exclude_words:\n",
        "            tokens.append(word)\n",
        "\n",
        "# Count the frequency of each token\n",
        "token_counts = Counter(tokens)\n",
        "\n",
        "# Get the most common word\n",
        "most_common_word, most_common_count = token_counts.most_common(1)[0]\n",
        "\n",
        "print(f\"The most common word in game titles is '{most_common_word}' with a count of {most_common_count}.\")\n",
        "\n",
        "# Fun fact #3\n",
        "# 'war'is the most common word in the game title! \n",
        "\n",
        "# War is a popular theme for board games, possibly because this is historically common and universally recognized theme in games and storytelling.\n",
        "# It provides a strong foundation for the concept of strategy and strategy games."
      ]
    },
    {
      "cell_type": "code",
      "execution_count": 309,
      "id": "qT7cFOr3T1mQ",
      "metadata": {
        "colab": {
          "base_uri": "https://localhost:8080/"
        },
        "id": "qT7cFOr3T1mQ",
        "outputId": "615cd494-5a64-4b7c-ffb0-6bdab0008d16"
      },
      "outputs": [
        {
          "name": "stdout",
          "output_type": "stream",
          "text": [
            "+-----+------------------------------------------+---------------------------------------------------------------------------------------+----------------+------------------+---------+-----------------+\n",
            "|     | Game Title                               | Description                                                                           |   Greek Rating |   Average Rating |   Votes |   Release Years |\n",
            "+=====+==========================================+=======================================================================================+================+==================+=========+=================+\n",
            "|   8 | War of the Ring: Second Edition          | The Fellowship and the Free Peoples clash with Sauron over the fate of Middle-Earth.  |          8.175 |             8.53 |   19683 |            2011 |\n",
            "+-----+------------------------------------------+---------------------------------------------------------------------------------------+----------------+------------------+---------+-----------------+\n",
            "| 114 | Aeon's End: War Eternal                  | War Eternal is a standalone game compatible with the deck building game Aeon's End.   |          7.486 |             8.29 |    5353 |            2017 |\n",
            "+-----+------------------------------------------+---------------------------------------------------------------------------------------+----------------+------------------+---------+-----------------+\n",
            "| 166 | War Chest                                | Recruit, bolster and maneuver your way to controlling the hex-grid battlefield.       |          7.376 |             7.87 |    8853 |            2018 |\n",
            "+-----+------------------------------------------+---------------------------------------------------------------------------------------+----------------+------------------+---------+-----------------+\n",
            "| 167 | War of the Ring                          | Rings, Fellowship, diplomacy and war in the Third Age of Middle Earth.                |          7.374 |             7.77 |   10560 |            2004 |\n",
            "+-----+------------------------------------------+---------------------------------------------------------------------------------------+----------------+------------------+---------+-----------------+\n",
            "| 170 | This War of Mine: The Board Game         | Civilians trapped in a war-torn city must make difficult decisions to survive.        |          7.362 |             7.78 |   12316 |            2017 |\n",
            "+-----+------------------------------------------+---------------------------------------------------------------------------------------+----------------+------------------+---------+-----------------+\n",
            "| 225 | Wonderland's War                         | The looking glass has shattered and war has come to Wonderland!                       |          7.273 |             8.15 |    4650 |            2022 |\n",
            "+-----+------------------------------------------+---------------------------------------------------------------------------------------+----------------+------------------+---------+-----------------+\n",
            "| 300 | Nemo's War (Second Edition)              | Sail the Seven Seas as the hardened captain Nemo, fighting the Imperialist powers.    |          7.157 |             7.86 |    5026 |            2017 |\n",
            "+-----+------------------------------------------+---------------------------------------------------------------------------------------+----------------+------------------+---------+-----------------+\n",
            "| 425 | Blitzkrieg!: World War Two in 20 Minutes | Deploy units in different theaters of combat to win WW2.                              |          7.016 |             7.62 |    5085 |            2019 |\n",
            "+-----+------------------------------------------+---------------------------------------------------------------------------------------+----------------+------------------+---------+-----------------+\n",
            "| 505 | Labyrinth: The War on Terror, 2001 – ?   | Jihad is no longer a world away. Can the West react in time to win the war on terror? |          6.941 |             7.58 |    4872 |            2010 |\n",
            "+-----+------------------------------------------+---------------------------------------------------------------------------------------+----------------+------------------+---------+-----------------+\n",
            "| 625 | Gears of War: The Board Game             | Be a COG soldier, fighting the Locust against all odds in a final desperate stand.    |          6.842 |             7.47 |    5020 |            2011 |\n",
            "+-----+------------------------------------------+---------------------------------------------------------------------------------------+----------------+------------------+---------+-----------------+\n"
          ]
        }
      ],
      "source": [
        "# Set the key war\n",
        "search_word = 'war'\n",
        "\n",
        "# Tokenize words and filter titles containing the search word\n",
        "filtered_titles = [title for title in df['Game Title'] if search_word in word_tokenize(title.lower())]\n",
        "\n",
        "# Sort the DataFrame by 'Rating' in descending order\n",
        "df.sort_values(by='Greek Rating', ascending=False, inplace=True)\n",
        "\n",
        "# Filter the DataFrame to include only the top 10 games with 'war' in the title\n",
        "top_10_war_games = df[df['Game Title'].isin(filtered_titles)].head(10)\n",
        "\n",
        "# Display the results in a table\n",
        "table = tabulate(top_10_war_games, headers='keys', tablefmt='grid')\n",
        "print(table)"
      ]
    },
    {
      "cell_type": "code",
      "execution_count": 313,
      "id": "792eb12a",
      "metadata": {},
      "outputs": [
        {
          "data": {
            "image/png": "[encoded data removed]",
            "text/plain": [
              "<Figure size 1200x600 with 1 Axes>"
            ]
          },
          "metadata": {},
          "output_type": "display_data"
        }
      ],
      "source": [
        "# Filter the games which released in the past 50 years\n",
        "filtered_df = df[(df['Release Years'] > 1972) & (df['Release Years'] < 2023)] \n",
        "\n",
        "# Group the data by 'Release Year' and count the number of games released each year\n",
        "year_counts = filtered_df['Release Years'].value_counts().sort_index()\n",
        "\n",
        "# Get the years and corresponding counts\n",
        "years = year_counts.index\n",
        "counts = year_counts.values\n",
        "\n",
        "# Find the year with the highest number of games\n",
        "most_games_year = years[counts.argmax()]\n",
        "\n",
        "# Create a line graph\n",
        "plt.figure(figsize=(12, 6))\n",
        "plt.plot(years, counts, marker='o', linestyle='-')\n",
        "plt.xlabel('Release Year')\n",
        "plt.ylabel('Number of Board Games Released')\n",
        "plt.title('Board Games Released Over the Past 50 Years')\n",
        "plt.grid(True)\n",
        "plt.xticks(rotation=45)  # Rotate x-axis labels for readability\n",
        "\n",
        "# Set x-axis tick locations and labels with intervals of 5\n",
        "# plt.xticks(range(min(years), max(years) + 1, 5), rotation=45)  \n",
        "\n",
        "# Add a vertical line to indicate the year with the highest number of games\n",
        "plt.axvline(x=most_games_year, color='red', linestyle='--', label=f'Most Games Year ({most_games_year})')\n",
        "\n",
        "plt.show()\n",
        "\n",
        "# Fun fact #4\n",
        "# The trend of the number of games released is increasing lasted for the last 45+ years\n",
        "# In the year 2019, the number of board games released hits the highest number of games released in the past 50 years"
      ]
    },
    {
      "cell_type": "code",
      "execution_count": 314,
      "metadata": {},
      "outputs": [
        {
          "name": "stdout",
          "output_type": "stream",
          "text": [
            "The board game Codenames exhibits the most significant difference between its Greek and Average Ratings -0.088\n"
          ]
        }
      ],
      "source": [
        "# Calculate the variance between 'Greek Rating' and 'Average Rating' for each game\n",
        "df['Rating Variance'] = df['Greek Rating'] - df['Average Rating']\n",
        "\n",
        "# Find the game with the greatest variance\n",
        "game_with_max_variance = df[df['Rating Variance'] == df['Rating Variance'].max()]\n",
        "\n",
        "# Print the game with the greatest variance\n",
        "print('The board game', game_with_max_variance['Game Title'].values[0], 'exhibits the most significant difference between its Greek and Average Ratings', round(game_with_max_variance['Rating Variance'].values[0], 3) )\n",
        "\n",
        "# Fun fact #5\n",
        "# Codenames is a relaxing word-based party game that can be played with up to 8 players, making it an ideal choice for gatherings with friends, family, and even kids\n",
        "# It's all about giving clever one-word clues to your teammates to help them guess the right words on the board\n",
        "\n",
        "# Perhaps one of the reasons Codenames has the greatest variance among the games in the dataset is its versatility\n",
        "# It encourages creativity in clue-giving and requires players to think outside the box, resulting in a wide range of strategies and interpretations"
      ]
    },
    {
      "cell_type": "code",
      "execution_count": 315,
      "id": "6ae446da",
      "metadata": {},
      "outputs": [
        {
          "name": "stdout",
          "output_type": "stream",
          "text": [
            "CATAN garnered a total of 121814 votes and achieved a rating of 6.932\n"
          ]
        }
      ],
      "source": [
        "# Drop the 'Rating Variance' column\n",
        "# df = df.drop(columns=['Rating Variance'])\n",
        "\n",
        "# Sort the DataFrame by 'Votes' in descending order\n",
        "df_sorted_by_votes = df.sort_values(by='Votes', ascending=False)\n",
        "\n",
        "# Select the game(s) with the most votes (top entry/entries)\n",
        "top_voted_games = df_sorted_by_votes[df_sorted_by_votes['Votes'] == df_sorted_by_votes['Votes'].max()]\n",
        "\n",
        "# Print the game(s) with the most votes\n",
        "print(top_voted_games['Game Title'].values[0], 'garnered a total of', top_voted_games['Votes'].values[0], 'votes and achieved a rating of', top_voted_games['Greek Rating'].values[0])\n",
        "\n",
        "# Fun fact #6\n",
        "# Catan is a board game that blends resource management, strategic thinking, and negotiation.\n",
        "# It has received numerous awards and is frequently acknowledged for its role in reinvigorating the board gaming hobby during the late 1990s and early 2000s.\n"
      ]
    },
    {
      "cell_type": "code",
      "execution_count": 318,
      "id": "6539eded",
      "metadata": {},
      "outputs": [
        {
          "name": "stdout",
          "output_type": "stream",
          "text": [
            "Thanks for coming along on this thrilling board game data adventure! Feel free to share your favorite board game with me in a message!\n"
          ]
        }
      ],
      "source": [
        "print('Thanks for coming along on this thrilling board game data adventure! Feel free to share your favorite board game with me in a message!')\n"
      ]
    }
  ],
  "metadata": {
    "colab": {
      "provenance": []
    },
    "kernelspec": {
      "display_name": "Python 3 (ipykernel)",
      "language": "python",
      "name": "python3"
    },
    "language_info": {
      "codemirror_mode": {
        "name": "ipython",
        "version": 3
      },
      "file_extension": ".py",
      "mimetype": "text/x-python",
      "name": "python",
      "nbconvert_exporter": "python",
      "pygments_lexer": "ipython3",
      "version": "3.11.3"
    }
  },
  "nbformat": 4,
  "nbformat_minor": 5
}
